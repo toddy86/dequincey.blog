{
 "cells": [
  {
   "cell_type": "markdown",
   "metadata": {},
   "source": [
    "## Project goal"
   ]
  },
  {
   "cell_type": "markdown",
   "metadata": {},
   "source": [
    "As I am currently not a full time developer, often I find myself searching for the right syntax to use or trying to remember the unique characteristics of certain data structures. \n",
    "\n",
    "So, I have created this notebook as my own personal cheat sheet which I can refer back to at any point. I know there are many other cheat sheets like this which already exist, however this is personalised to me and the knowledge areas which I personally struggle with. Further, by creating this myself, hopefully the concepts begin to sink in more. "
   ]
  },
  {
   "cell_type": "code",
   "execution_count": 216,
   "metadata": {},
   "outputs": [],
   "source": [
    "# Import dependencies\n",
    "import datetime"
   ]
  },
  {
   "cell_type": "markdown",
   "metadata": {},
   "source": [
    "## Data Structures"
   ]
  },
  {
   "cell_type": "markdown",
   "metadata": {},
   "source": [
    "### Dictionaries"
   ]
  },
  {
   "cell_type": "code",
   "execution_count": 10,
   "metadata": {},
   "outputs": [],
   "source": [
    "# Creating dictionaries\n",
    "dict1 = {\"key1\": 1, \"key2\": \"value2\"}\n",
    "dict2 = dict()"
   ]
  },
  {
   "cell_type": "code",
   "execution_count": 13,
   "metadata": {},
   "outputs": [
    {
     "data": {
      "text/plain": [
       "{'key3': 'value3'}"
      ]
     },
     "execution_count": 13,
     "metadata": {},
     "output_type": "execute_result"
    }
   ],
   "source": [
    "# Adding values to a dictionary\n",
    "dict2['key3'] = \"value3\"\n",
    "dict2"
   ]
  },
  {
   "cell_type": "code",
   "execution_count": 14,
   "metadata": {},
   "outputs": [
    {
     "data": {
      "text/plain": [
       "{'key2': 'value2'}"
      ]
     },
     "execution_count": 14,
     "metadata": {},
     "output_type": "execute_result"
    }
   ],
   "source": [
    "# Deleting values from a dictionary\n",
    "del dict1[\"key1\"]\n",
    "dict1"
   ]
  },
  {
   "cell_type": "code",
   "execution_count": 16,
   "metadata": {},
   "outputs": [
    {
     "name": "stdout",
     "output_type": "stream",
     "text": [
      "This is the key: key1\n",
      "This is the value: 1\n",
      "This is the key: key2\n",
      "This is the value: 2\n",
      "This is the key: key3\n",
      "This is the value: 3\n"
     ]
    }
   ],
   "source": [
    "# Looping dictionaries\n",
    "dict3 = {\"key1\": 1, \"key2\": 2, \"key3\": 3}\n",
    "\n",
    "for key, value in dict3.items():\n",
    "    print(\"This is the key:\", key)\n",
    "    print(\"This is the value:\", value)"
   ]
  },
  {
   "cell_type": "code",
   "execution_count": 28,
   "metadata": {},
   "outputs": [
    {
     "data": {
      "text/plain": [
       "'peter'"
      ]
     },
     "execution_count": 28,
     "metadata": {},
     "output_type": "execute_result"
    }
   ],
   "source": [
    "# Unpacking key and values from **kwargs in a Class\n",
    "class DictTest:\n",
    "    def __init__(self, **kwargs):\n",
    "        for key, value in kwargs.items():\n",
    "            setattr(self, key, value)\n",
    "            \n",
    "dict4 = DictTest(name = \"peter\", age = 32, sex = \"male\")\n",
    "dict4.name"
   ]
  },
  {
   "cell_type": "markdown",
   "metadata": {},
   "source": [
    "## Classes"
   ]
  },
  {
   "cell_type": "code",
   "execution_count": 247,
   "metadata": {},
   "outputs": [],
   "source": [
    "class Person:\n",
    "    # Use a leading underscore to indicate that this attribute should not be modified\n",
    "    _dob = None \n",
    "    \n",
    "    # Leading dunder hides the attribute from others accessing the class\n",
    "    __security = None\n",
    "    \n",
    "    retirement_age = 65\n",
    " \n",
    "    # Initialise the class\n",
    "    def __init__(self, name, age, sex, **kwargs):\n",
    "        self.name = name\n",
    "        self.age = age\n",
    "        self.sex = sex\n",
    "        \n",
    "        # Loop through any kwargs and set attributes\n",
    "        for key, value in kwargs.items():\n",
    "            setattr(self, key, value)"
   ]
  },
  {
   "cell_type": "code",
   "execution_count": 261,
   "metadata": {},
   "outputs": [],
   "source": [
    "class Student(Person):    \n",
    "    # Set init and inherit from Person class\n",
    "    def __init__(self, name, age, sex, student_id, **kwargs):\n",
    "        \n",
    "        # Call super BEFORE setting other atttributes\n",
    "        super().__init__(name, age, sex, **kwargs) \n",
    "        self.student_id = student_id\n",
    "        \n",
    "    # Override inbuilt Python add operator for the class\n",
    "    def __add__(self, other):\n",
    "        return self.age + other\n",
    "    \n",
    "    # Method to calculate Students year of birth\n",
    "    def yob(self):\n",
    "        return datetime.datetime.now().year - self.age\n",
    "    \n",
    "    # Instead of showing as a method, show the results as a property\n",
    "    @property\n",
    "    def years_til_retirement(self):\n",
    "        return self.retirement_age - self.age\n",
    "    \n",
    "    # Create a setting in case we want to set the value of the property as an attribute\n",
    "    # If we try to set the value of the \"years_til_retirement\" attribute, we will get an error as the attr does not yet exist\n",
    "    @years_til_retirement.setter\n",
    "    def years_til_retirement(self, years_til_retirement):\n",
    "        self.retirement_age = self.retirement_age - years_til_retirement"
   ]
  },
  {
   "cell_type": "code",
   "execution_count": 262,
   "metadata": {},
   "outputs": [
    {
     "data": {
      "text/plain": [
       "24"
      ]
     },
     "execution_count": 262,
     "metadata": {},
     "output_type": "execute_result"
    }
   ],
   "source": [
    "# Create an instance of the Person class and access attributes\n",
    "john = Person(\"John\", 24, \"male\")\n",
    "john.age"
   ]
  },
  {
   "cell_type": "code",
   "execution_count": 272,
   "metadata": {},
   "outputs": [
    {
     "data": {
      "text/plain": [
       "'Sarah'"
      ]
     },
     "execution_count": 272,
     "metadata": {},
     "output_type": "execute_result"
    }
   ],
   "source": [
    "# Create an instance of the Student class and access attributes\n",
    "sarah = Student(\"Sarah\", 22, \"Female\", 16392, history_class = False)\n",
    "sarah.name"
   ]
  },
  {
   "cell_type": "code",
   "execution_count": 273,
   "metadata": {},
   "outputs": [
    {
     "name": "stdout",
     "output_type": "stream",
     "text": [
      "23\n",
      "23\n"
     ]
    }
   ],
   "source": [
    "# Use overridden add operator\n",
    "another_year = 1\n",
    "print(sarah + another_year)\n",
    "\n",
    "# Could have easily done the following, but classes should be self-contained and the user should not need to know all of the attribues to be able to use\n",
    "print(sarah.age + another_year)"
   ]
  },
  {
   "cell_type": "code",
   "execution_count": 274,
   "metadata": {},
   "outputs": [
    {
     "data": {
      "text/plain": [
       "1997"
      ]
     },
     "execution_count": 274,
     "metadata": {},
     "output_type": "execute_result"
    }
   ],
   "source": [
    "# Accessed methods\n",
    "sarah.yob()"
   ]
  },
  {
   "cell_type": "code",
   "execution_count": 275,
   "metadata": {},
   "outputs": [
    {
     "data": {
      "text/plain": [
       "43"
      ]
     },
     "execution_count": 275,
     "metadata": {},
     "output_type": "execute_result"
    }
   ],
   "source": [
    "# Access properties of a class (methods, but accessed like attributes)\n",
    "sarah.years_til_retirement"
   ]
  },
  {
   "cell_type": "code",
   "execution_count": 276,
   "metadata": {},
   "outputs": [
    {
     "name": "stdout",
     "output_type": "stream",
     "text": [
      "Sarah will retire in 23 years when she is 45 years old\n"
     ]
    }
   ],
   "source": [
    "# Update the years_til_retirement attr using the setter \n",
    "sarah.years_til_retirement = 20\n",
    "print(\"{} will retire in {} years when she is {} years old\".format(sarah.name, sarah.years_til_retirement, sarah.retirement_age))"
   ]
  },
  {
   "cell_type": "markdown",
   "metadata": {},
   "source": [
    "**Notes**  \n",
    "- Name classes with CamelCase\n",
    "- To inherit from another class, pass the parent in as an argument of the child class\n",
    "- use \\__init__ to initialise the class and set attribute values\n",
    "- Variables in the class are called \"attributes\"\n",
    "- Functions in the class are callsed \"methods\"\n",
    "- User super().parent_func_name(args, kwargs) to initialise the child class with the parent class \\__init__\n",
    "- In general, the ultimate parent class, should not call on super()\n",
    "- Use a leading underscore to indicate that an attribute should not be modified (e.g \\_do_not_use). This will leave it visible to others though\n",
    "- Use a leading double underscore to hide an attribute from others\n",
    "- If you don't want to access a method of a class as a method, use the @property decorator to make the results of the method accesssible like an attribute"
   ]
  },
  {
   "cell_type": "markdown",
   "metadata": {},
   "source": [
    "#### Classes which override immutable objects"
   ]
  },
  {
   "cell_type": "code",
   "execution_count": 152,
   "metadata": {},
   "outputs": [],
   "source": [
    "class ReversedString(str):\n",
    "    def __new__(*args, **kwargs): # new is a class method. Therefore, does NOT take self\n",
    "        self = str.__new__(*args, **kwargs)\n",
    "        self = self[::-1]\n",
    "        return self # Unlike __init__, we return a value with __new__"
   ]
  },
  {
   "cell_type": "code",
   "execution_count": 155,
   "metadata": {},
   "outputs": [
    {
     "data": {
      "text/plain": [
       "'sgod'"
      ]
     },
     "execution_count": 155,
     "metadata": {},
     "output_type": "execute_result"
    }
   ],
   "source": [
    "rev_string = ReversedString(\"dogs\")\n",
    "rev_string"
   ]
  },
  {
   "cell_type": "markdown",
   "metadata": {},
   "source": [
    "#### Classes which override mutable objects"
   ]
  },
  {
   "cell_type": "code",
   "execution_count": 156,
   "metadata": {},
   "outputs": [],
   "source": [
    "import copy\n",
    "class FilledList(list):\n",
    "    def __init__(self, count, value, *args, **kwargs):\n",
    "        super().__init__()\n",
    "        for _ in range(count): # Underscore ignores the number coming out of range\n",
    "            self.append(copy.copy(value))"
   ]
  },
  {
   "cell_type": "code",
   "execution_count": 161,
   "metadata": {},
   "outputs": [],
   "source": [
    "fl = FilledList(2,[1,2,3])"
   ]
  },
  {
   "cell_type": "code",
   "execution_count": 162,
   "metadata": {},
   "outputs": [
    {
     "data": {
      "text/plain": [
       "[[1, 2, 3], [1, 2, 3]]"
      ]
     },
     "execution_count": 162,
     "metadata": {},
     "output_type": "execute_result"
    }
   ],
   "source": [
    "fl"
   ]
  },
  {
   "cell_type": "markdown",
   "metadata": {},
   "source": [
    "**Notes**  \n",
    "- If we want to change immutable objects (e.g. strings), then we should use \\__new__ to change the object at run time. \n",
    "- If we want to change mutable objects (e.g. lists), then we change them with \\__init__"
   ]
  },
  {
   "cell_type": "markdown",
   "metadata": {},
   "source": [
    "### Python Conventions"
   ]
  },
  {
   "cell_type": "markdown",
   "metadata": {},
   "source": [
    "**General**  \n",
    "- 4 space indentation\n",
    "- CamelCase for class naming\n",
    "- lower_case_underscore for function and variable names\n",
    "- CAPS for constants\n",
    "- imports at the top and all on separate lines\n",
    "- Use \"flake8\" from the terminal or add to sublime to check scripts for adherance to pep8"
   ]
  },
  {
   "cell_type": "code",
   "execution_count": 406,
   "metadata": {},
   "outputs": [],
   "source": [
    "# For top line functions (i.e. not in a class etc), put 2 lines between them\n",
    "def my_func1():\n",
    "    return 1\n",
    "\n",
    "\n",
    "def my_func2(arg1, arg2, arg3): # Spaces between commas\n",
    "    return 2"
   ]
  },
  {
   "cell_type": "code",
   "execution_count": 408,
   "metadata": {},
   "outputs": [],
   "source": [
    "# Classes are named with CamelCase\n",
    "class MyClass:\n",
    "    # Functions inside a class only have one space between them\n",
    "    def class_func1():\n",
    "        return 1\n",
    "    \n",
    "    def class_func2():\n",
    "        return 2\n",
    "    \n",
    "    \n",
    "class MyClass2:    # 2 spaces between classes\n",
    "    pass"
   ]
  },
  {
   "cell_type": "code",
   "execution_count": 409,
   "metadata": {},
   "outputs": [],
   "source": [
    "# Variable assignment has a space either side of the equals sign\n",
    "var1 = \"my variable\""
   ]
  },
  {
   "cell_type": "code",
   "execution_count": 405,
   "metadata": {},
   "outputs": [],
   "source": [
    "# Keyword args do NOT have spaces between the equals signs\n",
    "# Space after each comma\n",
    "def my_func(\"key1\"=None, \"key2\"=1)"
   ]
  },
  {
   "cell_type": "code",
   "execution_count": null,
   "metadata": {},
   "outputs": [],
   "source": [
    "# Dictionaries have a space after the colon, but not before\n",
    "my_dict = {\"key1\": \"value after a space\", \"key2\": \"another example\"}"
   ]
  },
  {
   "cell_type": "code",
   "execution_count": 452,
   "metadata": {},
   "outputs": [],
   "source": [
    "# Constants are in caps\n",
    "CONSTANT_VAR = 10"
   ]
  },
  {
   "cell_type": "code",
   "execution_count": null,
   "metadata": {},
   "outputs": [],
   "source": [
    "# Importing modules must be on separate lines\n",
    "# Python imports vs external imports are separated with a line\n",
    "from collections import OrderedDict\n",
    "from datetime import datetime\n",
    "\n",
    "import pandas as pd"
   ]
  },
  {
   "cell_type": "markdown",
   "metadata": {},
   "source": [
    "#### Docstrings\n",
    "Source: https://github.com/google/styleguide/blob/gh-pages/pyguide.md\n",
    "\n",
    "Always use the three double-quote \"\"\" format for docstrings (per PEP 257).\n",
    "\n",
    "A function must have a docstring, unless it meets all of the following criteria:\n",
    "\n",
    "not externally visible\n",
    "very short\n",
    "obvious\n",
    "A docstring should give enough information to write a call to the function without reading the function's code. The docstring should be descriptive (\"\"\"Fetches rows from a Bigtable.\"\"\") rather than imperative (\"\"\"Fetch rows from a Bigtable.\"\"\"). A docstring should describe the function's calling syntax and its semantics, not its implementation. For tricky code, comments alongside the code are more appropriate than using docstrings.\n",
    "\n",
    "A method that overrides a method from a base class may have a simple docstring sending the reader to its overridden method's docstring, such as \"\"\"See base class.\"\"\". The rationale is that there is no need to repeat in many places documentation that is already present in the base method's docstring. However, if the overriding method's behavior is substantially different from the overridden method, or details need to be provided (e.g., documenting additional side effects), a docstring with at least those differences is required on the overriding method.\n",
    "\n",
    "Certain aspects of a function should be documented in special sections, listed below. Each section begins with a heading line, which ends with a colon. Sections should be indented two spaces, except for the heading.\n",
    "\n",
    "Args: : List each parameter by name. A description should follow the name, and be separated by a colon and a space. If the description is too long to fit on a single 80-character line, use a hanging indent of 2 or 4 spaces (be consistent with the rest of the file).\n",
    "The description should include required type(s) if the code does not contain a corresponding type annotation.\n",
    "If a function accepts *foo (variable length argument lists) and/or **bar (arbitrary keyword arguments), they should be listed as *foo and **bar.\n",
    "\n",
    "Returns: (or Yields: for generators) : Describe the type and semantics of the return value. If the function only returns None, this section is not required. It may also be omitted if the docstring starts with Returns or Yields (e.g. \"\"\"Returns row from Bigtable as a tuple of strings.\"\"\") and the opening sentence is sufficient to describe return value.\n",
    "\n",
    "Raises: : List all exceptions that are relevant to the interface."
   ]
  },
  {
   "cell_type": "code",
   "execution_count": 410,
   "metadata": {},
   "outputs": [],
   "source": [
    "def fetch_bigtable_rows(big_table, keys, other_silly_variable=None):\n",
    "    \"\"\"Fetches rows from a Bigtable.\n",
    "\n",
    "    Retrieves rows pertaining to the given keys from the Table instance\n",
    "    represented by big_table.  Silly things may happen if\n",
    "    other_silly_variable is not None.\n",
    "\n",
    "    Args:\n",
    "        big_table: An open Bigtable Table instance.\n",
    "        keys: A sequence of strings representing the key of each table row\n",
    "            to fetch.\n",
    "        other_silly_variable: Another optional variable, that has a much\n",
    "            longer name than the other args, and which does nothing.\n",
    "\n",
    "    Returns:\n",
    "        A dict mapping keys to the corresponding table row data\n",
    "        fetched. Each row is represented as a tuple of strings. For\n",
    "        example:\n",
    "\n",
    "        {'Serak': ('Rigel VII', 'Preparer'),\n",
    "         'Zim': ('Irk', 'Invader'),\n",
    "         'Lrrr': ('Omicron Persei 8', 'Emperor')}\n",
    "\n",
    "        If a key from the keys argument is missing from the dictionary,\n",
    "        then that row was not found in the table.\n",
    "\n",
    "    Raises:\n",
    "        IOError: An error occurred accessing the bigtable.Table object.\n",
    "    \"\"\""
   ]
  },
  {
   "cell_type": "markdown",
   "metadata": {},
   "source": [
    "### Logging"
   ]
  },
  {
   "cell_type": "code",
   "execution_count": 420,
   "metadata": {},
   "outputs": [],
   "source": [
    "import logging"
   ]
  },
  {
   "cell_type": "code",
   "execution_count": 421,
   "metadata": {},
   "outputs": [
    {
     "name": "stdout",
     "output_type": "stream",
     "text": [
      "None\n"
     ]
    }
   ],
   "source": [
    "# logs aren't printed to the end user\n",
    "print(logging.info(\"This isn't seen by the user\"))"
   ]
  },
  {
   "cell_type": "code",
   "execution_count": 422,
   "metadata": {},
   "outputs": [],
   "source": [
    "# Creates a log file to save to\n",
    "logging.basicConfig(filename=\"test.log\", level=logging.DEBUG)"
   ]
  },
  {
   "cell_type": "markdown",
   "metadata": {},
   "source": [
    "Levels of logging are:\n",
    "* Critical \n",
    "* Error\n",
    "* Warning\n",
    "* Info\n",
    "* Debug \n",
    "* Notset"
   ]
  },
  {
   "cell_type": "code",
   "execution_count": 426,
   "metadata": {},
   "outputs": [],
   "source": [
    "# Log the initial state of an object as an INFO item\n",
    "test = \"This is what the string was in the beginning\"\n",
    "logging.info('Start string: {}'.format(test))\n",
    "\n",
    "# Change the object and then log the new state as a DEBUG\n",
    "test = test.upper()\n",
    "logging.debug('Updated string: {}'.format(test))"
   ]
  },
  {
   "cell_type": "markdown",
   "metadata": {},
   "source": [
    "Output in the log file is:  \n",
    "  \n",
    "INFO:root:Start string: This is what the string was in the beginning\n",
    "INFO:root:Updated string: THIS IS WHAT THE STRING WAS IN THE BEGINNING\n",
    "\n",
    "Note: The above does not work in Jupyter notebooks."
   ]
  },
  {
   "cell_type": "markdown",
   "metadata": {},
   "source": [
    "### Python Debugger (PDB)"
   ]
  },
  {
   "cell_type": "code",
   "execution_count": 430,
   "metadata": {},
   "outputs": [],
   "source": [
    "# Terribly created list - we only want the numbers\n",
    "bad_list = [0, 2, \"cat\", 4, False, 6]"
   ]
  },
  {
   "cell_type": "code",
   "execution_count": 431,
   "metadata": {},
   "outputs": [
    {
     "name": "stdout",
     "output_type": "stream",
     "text": [
      "--Return--\n",
      "> <ipython-input-431-be3f97419bdc>(2)<module>()->None\n",
      "-> pdb.set_trace()\n",
      "(Pdb) bad_list\n",
      "[0, 2, 'cat', 4, False, 6]\n",
      "(Pdb) next\n",
      "> /Users/todddequincey/anaconda3/lib/python3.7/site-packages/IPython/core/interactiveshell.py(3270)run_code()\n",
      "-> return False\n",
      "(Pdb) n\n",
      "> /Users/todddequincey/anaconda3/lib/python3.7/site-packages/IPython/core/interactiveshell.py(3286)run_code()\n",
      "-> \n",
      "(Pdb) n\n",
      "> /Users/todddequincey/anaconda3/lib/python3.7/site-packages/IPython/core/interactiveshell.py(3287)run_code()\n",
      "-> async def run_code(self, code_obj, result=None, *, async_=False):\n",
      "(Pdb) n\n",
      "Internal StopIteration: False\n",
      "> /Users/todddequincey/anaconda3/lib/python3.7/site-packages/IPython/core/interactiveshell.py(3185)run_ast_nodes()\n",
      "-> if isinstance(target, ast.Name):\n",
      "(Pdb) n\n",
      "> /Users/todddequincey/anaconda3/lib/python3.7/site-packages/IPython/core/interactiveshell.py(3182)run_ast_nodes()\n",
      "-> target = asg.target\n",
      "(Pdb) n\n",
      "> /Users/todddequincey/anaconda3/lib/python3.7/site-packages/IPython/core/interactiveshell.py(3183)run_ast_nodes()\n",
      "-> else:\n",
      "(Pdb) n\n",
      "> /Users/todddequincey/anaconda3/lib/python3.7/site-packages/IPython/core/interactiveshell.py(3184)run_ast_nodes()\n",
      "-> target = None\n",
      "(Pdb) n\n",
      "> /Users/todddequincey/anaconda3/lib/python3.7/site-packages/IPython/core/interactiveshell.py(3185)run_ast_nodes()\n",
      "-> if isinstance(target, ast.Name):\n",
      "(Pdb) n\n",
      "> /Users/todddequincey/anaconda3/lib/python3.7/site-packages/IPython/core/interactiveshell.py(3182)run_ast_nodes()\n",
      "-> target = asg.target\n",
      "(Pdb) n\n",
      "> /Users/todddequincey/anaconda3/lib/python3.7/site-packages/IPython/core/interactiveshell.py(3183)run_ast_nodes()\n",
      "-> else:\n",
      "(Pdb) n\n",
      "> /Users/todddequincey/anaconda3/lib/python3.7/site-packages/IPython/core/interactiveshell.py(3184)run_ast_nodes()\n",
      "-> target = None\n",
      "(Pdb) n\n",
      "> /Users/todddequincey/anaconda3/lib/python3.7/site-packages/IPython/core/interactiveshell.py(3185)run_ast_nodes()\n",
      "-> if isinstance(target, ast.Name):\n",
      "(Pdb) n\n"
     ]
    },
    {
     "ename": "IndexError",
     "evalue": "list assignment index out of range",
     "output_type": "error",
     "traceback": [
      "\u001b[0;31m---------------------------------------------------------------------------\u001b[0m",
      "\u001b[0;31mIndexError\u001b[0m                                Traceback (most recent call last)",
      "\u001b[0;32m<ipython-input-431-be3f97419bdc>\u001b[0m in \u001b[0;36m<module>\u001b[0;34m\u001b[0m\n\u001b[1;32m      4\u001b[0m \u001b[0;31m# Delete non-numeric items (deliberately wrong)\u001b[0m\u001b[0;34m\u001b[0m\u001b[0;34m\u001b[0m\u001b[0;34m\u001b[0m\u001b[0m\n\u001b[1;32m      5\u001b[0m \u001b[0;32mdel\u001b[0m \u001b[0mbad_list\u001b[0m\u001b[0;34m[\u001b[0m\u001b[0;36m3\u001b[0m\u001b[0;34m]\u001b[0m\u001b[0;34m\u001b[0m\u001b[0;34m\u001b[0m\u001b[0m\n\u001b[0;32m----> 6\u001b[0;31m \u001b[0;32mdel\u001b[0m \u001b[0mbad_list\u001b[0m\u001b[0;34m[\u001b[0m\u001b[0;36m5\u001b[0m\u001b[0;34m]\u001b[0m\u001b[0;34m\u001b[0m\u001b[0;34m\u001b[0m\u001b[0m\n\u001b[0m",
      "\u001b[0;31mIndexError\u001b[0m: list assignment index out of range"
     ]
    },
    {
     "name": "stdout",
     "output_type": "stream",
     "text": [
      "> /Users/todddequincey/anaconda3/lib/python3.7/site-packages/IPython/core/interactiveshell.py(3186)run_ast_nodes()\n",
      "-> nnode = ast.Expr(ast.Name(target.id, ast.Load()))\n",
      "--KeyboardInterrupt--\n",
      "(Pdb) q\n"
     ]
    },
    {
     "ename": "BdbQuit",
     "evalue": "",
     "output_type": "error",
     "traceback": [
      "\u001b[0;31m---------------------------------------------------------------------------\u001b[0m",
      "\u001b[0;31mBdbQuit\u001b[0m                                   Traceback (most recent call last)",
      "\u001b[0;32m~/anaconda3/lib/python3.7/site-packages/IPython/core/interactiveshell.py\u001b[0m in \u001b[0;36mrun_ast_nodes\u001b[0;34m(self, nodelist, cell_name, interactivity, compiler, result)\u001b[0m\n\u001b[1;32m   3184\u001b[0m                     \u001b[0mtarget\u001b[0m \u001b[0;34m=\u001b[0m \u001b[0;32mNone\u001b[0m\u001b[0;34m\u001b[0m\u001b[0;34m\u001b[0m\u001b[0m\n\u001b[1;32m   3185\u001b[0m                 \u001b[0;32mif\u001b[0m \u001b[0misinstance\u001b[0m\u001b[0;34m(\u001b[0m\u001b[0mtarget\u001b[0m\u001b[0;34m,\u001b[0m \u001b[0mast\u001b[0m\u001b[0;34m.\u001b[0m\u001b[0mName\u001b[0m\u001b[0;34m)\u001b[0m\u001b[0;34m:\u001b[0m\u001b[0;34m\u001b[0m\u001b[0;34m\u001b[0m\u001b[0m\n\u001b[0;32m-> 3186\u001b[0;31m                     \u001b[0mnnode\u001b[0m \u001b[0;34m=\u001b[0m \u001b[0mast\u001b[0m\u001b[0;34m.\u001b[0m\u001b[0mExpr\u001b[0m\u001b[0;34m(\u001b[0m\u001b[0mast\u001b[0m\u001b[0;34m.\u001b[0m\u001b[0mName\u001b[0m\u001b[0;34m(\u001b[0m\u001b[0mtarget\u001b[0m\u001b[0;34m.\u001b[0m\u001b[0mid\u001b[0m\u001b[0;34m,\u001b[0m \u001b[0mast\u001b[0m\u001b[0;34m.\u001b[0m\u001b[0mLoad\u001b[0m\u001b[0;34m(\u001b[0m\u001b[0;34m)\u001b[0m\u001b[0;34m)\u001b[0m\u001b[0;34m)\u001b[0m\u001b[0;34m\u001b[0m\u001b[0;34m\u001b[0m\u001b[0m\n\u001b[0m\u001b[1;32m   3187\u001b[0m                     \u001b[0mast\u001b[0m\u001b[0;34m.\u001b[0m\u001b[0mfix_missing_locations\u001b[0m\u001b[0;34m(\u001b[0m\u001b[0mnnode\u001b[0m\u001b[0;34m)\u001b[0m\u001b[0;34m\u001b[0m\u001b[0;34m\u001b[0m\u001b[0m\n\u001b[1;32m   3188\u001b[0m                     \u001b[0mnodelist\u001b[0m\u001b[0;34m.\u001b[0m\u001b[0mappend\u001b[0m\u001b[0;34m(\u001b[0m\u001b[0mnnode\u001b[0m\u001b[0;34m)\u001b[0m\u001b[0;34m\u001b[0m\u001b[0;34m\u001b[0m\u001b[0m\n",
      "\u001b[0;32m~/anaconda3/lib/python3.7/bdb.py\u001b[0m in \u001b[0;36mtrace_dispatch\u001b[0;34m(self, frame, event, arg)\u001b[0m\n\u001b[1;32m     86\u001b[0m             \u001b[0;32mreturn\u001b[0m \u001b[0;31m# None\u001b[0m\u001b[0;34m\u001b[0m\u001b[0;34m\u001b[0m\u001b[0m\n\u001b[1;32m     87\u001b[0m         \u001b[0;32mif\u001b[0m \u001b[0mevent\u001b[0m \u001b[0;34m==\u001b[0m \u001b[0;34m'line'\u001b[0m\u001b[0;34m:\u001b[0m\u001b[0;34m\u001b[0m\u001b[0;34m\u001b[0m\u001b[0m\n\u001b[0;32m---> 88\u001b[0;31m             \u001b[0;32mreturn\u001b[0m \u001b[0mself\u001b[0m\u001b[0;34m.\u001b[0m\u001b[0mdispatch_line\u001b[0m\u001b[0;34m(\u001b[0m\u001b[0mframe\u001b[0m\u001b[0;34m)\u001b[0m\u001b[0;34m\u001b[0m\u001b[0;34m\u001b[0m\u001b[0m\n\u001b[0m\u001b[1;32m     89\u001b[0m         \u001b[0;32mif\u001b[0m \u001b[0mevent\u001b[0m \u001b[0;34m==\u001b[0m \u001b[0;34m'call'\u001b[0m\u001b[0;34m:\u001b[0m\u001b[0;34m\u001b[0m\u001b[0;34m\u001b[0m\u001b[0m\n\u001b[1;32m     90\u001b[0m             \u001b[0;32mreturn\u001b[0m \u001b[0mself\u001b[0m\u001b[0;34m.\u001b[0m\u001b[0mdispatch_call\u001b[0m\u001b[0;34m(\u001b[0m\u001b[0mframe\u001b[0m\u001b[0;34m,\u001b[0m \u001b[0marg\u001b[0m\u001b[0;34m)\u001b[0m\u001b[0;34m\u001b[0m\u001b[0;34m\u001b[0m\u001b[0m\n",
      "\u001b[0;32m~/anaconda3/lib/python3.7/bdb.py\u001b[0m in \u001b[0;36mdispatch_line\u001b[0;34m(self, frame)\u001b[0m\n\u001b[1;32m    111\u001b[0m         \u001b[0;32mif\u001b[0m \u001b[0mself\u001b[0m\u001b[0;34m.\u001b[0m\u001b[0mstop_here\u001b[0m\u001b[0;34m(\u001b[0m\u001b[0mframe\u001b[0m\u001b[0;34m)\u001b[0m \u001b[0;32mor\u001b[0m \u001b[0mself\u001b[0m\u001b[0;34m.\u001b[0m\u001b[0mbreak_here\u001b[0m\u001b[0;34m(\u001b[0m\u001b[0mframe\u001b[0m\u001b[0;34m)\u001b[0m\u001b[0;34m:\u001b[0m\u001b[0;34m\u001b[0m\u001b[0;34m\u001b[0m\u001b[0m\n\u001b[1;32m    112\u001b[0m             \u001b[0mself\u001b[0m\u001b[0;34m.\u001b[0m\u001b[0muser_line\u001b[0m\u001b[0;34m(\u001b[0m\u001b[0mframe\u001b[0m\u001b[0;34m)\u001b[0m\u001b[0;34m\u001b[0m\u001b[0;34m\u001b[0m\u001b[0m\n\u001b[0;32m--> 113\u001b[0;31m             \u001b[0;32mif\u001b[0m \u001b[0mself\u001b[0m\u001b[0;34m.\u001b[0m\u001b[0mquitting\u001b[0m\u001b[0;34m:\u001b[0m \u001b[0;32mraise\u001b[0m \u001b[0mBdbQuit\u001b[0m\u001b[0;34m\u001b[0m\u001b[0;34m\u001b[0m\u001b[0m\n\u001b[0m\u001b[1;32m    114\u001b[0m         \u001b[0;32mreturn\u001b[0m \u001b[0mself\u001b[0m\u001b[0;34m.\u001b[0m\u001b[0mtrace_dispatch\u001b[0m\u001b[0;34m\u001b[0m\u001b[0;34m\u001b[0m\u001b[0m\n\u001b[1;32m    115\u001b[0m \u001b[0;34m\u001b[0m\u001b[0m\n",
      "\u001b[0;31mBdbQuit\u001b[0m: "
     ]
    }
   ],
   "source": [
    "# Set trace for where we want to start debugging from\n",
    "import pdb; pdb.set_trace()\n",
    "\n",
    "# Delete non-numeric items (deliberately wrong)\n",
    "del bad_list[3]\n",
    "del bad_list[5]"
   ]
  },
  {
   "cell_type": "markdown",
   "metadata": {},
   "source": [
    "When trace set for pdb, you are provided with a pdb prompt in the terminal. Enter \"next\" or just \"n\" to move from line to line in the code to identify any errors. \n",
    "\n",
    "**PDB Commands**\n",
    "- \"n\" or \"next\" to move to the next line of code\n",
    "- \"q\" to quit PDB\n",
    "- \"c\" to continue through the rest of the script without PDB running line-by-line (i.e. run as if PDB weren't there)\n",
    "- \"var_name\" to display the state of a variable at any stage in the PDB process\n"
   ]
  },
  {
   "cell_type": "markdown",
   "metadata": {},
   "source": [
    "## Test Driven Development (TDD)"
   ]
  },
  {
   "cell_type": "markdown",
   "metadata": {},
   "source": [
    "### Types of Tests"
   ]
  },
  {
   "cell_type": "markdown",
   "metadata": {},
   "source": [
    "**Unit Tests**  \n",
    "Units are single features or aspects of your code. \n",
    "\n",
    "For example, if you have a class called Car. Car will have attributes (e.g. top_speed, max_milage, make, model etc), as well as methods (e.g. start, stop etc). \n",
    "\n",
    "A unit test focuses on a single aspect (e.g. top_speed which must be numeric) and deliberately sets the attribute to a false value (e.g. str of \"fast\") and then raises an exception. \n",
    "\n",
    "**Regression Tests**  \n",
    "Regression tests ensure that previously made mistakes do not happen again. \n",
    "\n",
    "**Integration Tests**  \n",
    "Makes sure that for a given process that each unit works from beginning to end. "
   ]
  },
  {
   "cell_type": "markdown",
   "metadata": {},
   "source": [
    "### Doctests\n",
    "Somewhat unique to Python and are written in a docstring. \n",
    "\n",
    "Documentation: https://docs.python.org/3/library/doctest.html\n",
    "\n",
    "To run from the terminal:  \n",
    "python -m doctest your_script.py"
   ]
  },
  {
   "cell_type": "code",
   "execution_count": 432,
   "metadata": {},
   "outputs": [],
   "source": [
    "import doctest"
   ]
  },
  {
   "cell_type": "code",
   "execution_count": 446,
   "metadata": {},
   "outputs": [],
   "source": [
    "# Dummy function to test\n",
    "# Two tests. Test one will pass, test two will deliberately fail\n",
    "def multiply_nums(number, multiplier):\n",
    "    \"\"\" Insert the docstring like normal - Returns multiplication of two numbers. \n",
    "    \n",
    "    >>> multiply_nums(2, 2)\n",
    "    4\n",
    "    >>> multiply_nums(3, 2)\n",
    "    999\n",
    "\n",
    "    \"\"\"\n",
    "    result = number * multiplier\n",
    "    return result"
   ]
  },
  {
   "cell_type": "markdown",
   "metadata": {},
   "source": [
    "Notes:  \n",
    "- Important to leave a space before the end of the docstring block, otherwise Python sometimes misses the doctest\n",
    "- Best to run the tests from the terminal using the python -m doctest your_script.py command\n",
    "- Doctests use string comparison, so they can cause problems with floats, as well as not being very reusable as they are tightly bound to the function they are written for"
   ]
  },
  {
   "cell_type": "markdown",
   "metadata": {},
   "source": [
    "### Unittests"
   ]
  },
  {
   "cell_type": "markdown",
   "metadata": {},
   "source": [
    "To run from the terminal:  \n",
    "python -m unittest test_script_name.py\n",
    "\n",
    "Save all of the tests in a separate test script. Not to be included in the main code.\n",
    "\n",
    "Documentation: https://docs.python.org/3/library/unittest.html\n",
    "\n",
    "Notes: \n",
    "- All tests must start with the keyword of \"test_\"\n",
    "- There are many types of assertions which can be used (assert, assertEqual(x, y), assertGreater(x, y) etc)\n",
    "- unittest module preceeds PEP8, so many functions are in camel case\n",
    "\n",
    "**Assertions**  \n",
    "- assertTrue(x)\n",
    "- assertFalse(x)\n",
    "- assertEqual(a, b)\n",
    "- assertNotEqual(a, b)\n",
    "- assertis(a, b)\n",
    "- assertIsNot(a, b)\n",
    "- assertIsNone(x)\n",
    "- assertIsNotNone(a, b)\n",
    "- assertIn(a, b)\n",
    "- assertNotIn(a, b)\n",
    "- assertIsInstance(a, b)\n",
    "- assertNotIsInstance(a, b)\n",
    "- assertAlmostEqual(a, b)  # checks if 2x rounded values = 0\n",
    "- assertNotAlmostEqual(a, b)\n",
    "- assertGreater(a, b)\n",
    "- assertGreaterEqual(a, b)\n",
    "- assertLess(a, b)\n",
    "- assertLessEqual(a, b)\n",
    "- assertRegex(string, regex)  # r.search(s)\n",
    "- assertNotRegex(string, regex)\n",
    "- assertCountEqual(a, b)\n",
    "- assertMultiLineEqual(a, b)  # compares that two strings are equal\n",
    "- assertListEqual(a, b)  # compares two lists\n",
    "- assertTupleEqual(a, b)\n",
    "- assertSetEqual(a, b)\n",
    "- assertDictEqual(a, b)"
   ]
  },
  {
   "cell_type": "code",
   "execution_count": 459,
   "metadata": {},
   "outputs": [],
   "source": [
    "# Add the following to a script\n",
    "import unittest\n",
    "\n",
    "# Create a class which extends TestCase\n",
    "class NumericTests(unittest.TestCase):\n",
    "    # Create variables to re-use throughout the test cases\n",
    "    def setUp(self):\n",
    "        self.var1 = \"xyz\"\n",
    "    \n",
    "    def test_five_plus_1(self):\n",
    "        assert 5 + 1 == 6\n",
    "    \n",
    "    def test_five_equals_five(self):\n",
    "        assertEqual(5, 5)\n",
    "    \n",
    "    def test_five_not_equal_six(self):\n",
    "        assertNotEqual(5, 6)\n",
    "        \n",
    "    def tearDown(self):\n",
    "        self.var1.dispose()\n",
    "\n",
    "    # Tests if an assertion is correctly raised when an invalid value is passed\n",
    "    # The test fails if the assertion is NOT raised\n",
    "    def test_exception(self):\n",
    "        with self.assertRaises(ValueError):\n",
    "            int('a')\n",
    "\n",
    "# Runs the unit tests\n",
    "if __name__ == \"__main__\":\n",
    "    unittest.main()"
   ]
  },
  {
   "cell_type": "markdown",
   "metadata": {},
   "source": [
    "#### Coverage\n",
    "To determine how much of your code is covered by your unit tests, we can use the coverage library.\n",
    "\n",
    "- pip install coverage\n",
    "\n",
    "To get coverage to run over your test script, simply run the following from commands terminal:\n",
    "\n",
    "- coverage run test_script_name.py  \n",
    "- coverage report\n",
    "\n",
    "Once we have the coverage report, to identify which code lines are NOT covered by the tests, run the following command:\n",
    "\n",
    "- coverage report -m\n",
    "\n",
    "To generate an interactive HTML version of the coverage report which highlights the uncovered lines of code, run the following commands instead: \n",
    "\n",
    "- coverage html\n",
    "- python -m http.server  #treehouse only??"
   ]
  },
  {
   "cell_type": "code",
   "execution_count": 460,
   "metadata": {},
   "outputs": [],
   "source": []
  },
  {
   "cell_type": "code",
   "execution_count": null,
   "metadata": {},
   "outputs": [],
   "source": []
  },
  {
   "cell_type": "code",
   "execution_count": null,
   "metadata": {},
   "outputs": [],
   "source": []
  },
  {
   "cell_type": "code",
   "execution_count": null,
   "metadata": {},
   "outputs": [],
   "source": []
  },
  {
   "cell_type": "code",
   "execution_count": null,
   "metadata": {},
   "outputs": [],
   "source": []
  },
  {
   "cell_type": "markdown",
   "metadata": {},
   "source": [
    "### Using Databases with Python"
   ]
  },
  {
   "cell_type": "markdown",
   "metadata": {},
   "source": []
  },
  {
   "cell_type": "code",
   "execution_count": 463,
   "metadata": {},
   "outputs": [],
   "source": [
    "# Importing everything from peewee is the convention for this library\n",
    "from peewee import *"
   ]
  },
  {
   "cell_type": "code",
   "execution_count": null,
   "metadata": {},
   "outputs": [],
   "source": []
  },
  {
   "cell_type": "code",
   "execution_count": null,
   "metadata": {},
   "outputs": [],
   "source": []
  },
  {
   "cell_type": "code",
   "execution_count": null,
   "metadata": {},
   "outputs": [],
   "source": []
  },
  {
   "cell_type": "code",
   "execution_count": null,
   "metadata": {},
   "outputs": [],
   "source": []
  }
 ],
 "metadata": {
  "kernelspec": {
   "display_name": "Python 3",
   "language": "python",
   "name": "python3"
  },
  "language_info": {
   "codemirror_mode": {
    "name": "ipython",
    "version": 3
   },
   "file_extension": ".py",
   "mimetype": "text/x-python",
   "name": "python",
   "nbconvert_exporter": "python",
   "pygments_lexer": "ipython3",
   "version": "3.7.1"
  }
 },
 "nbformat": 4,
 "nbformat_minor": 2
}
